{
  "nbformat": 4,
  "nbformat_minor": 0,
  "metadata": {
    "colab": {
      "provenance": []
    },
    "kernelspec": {
      "name": "python3",
      "display_name": "Python 3"
    },
    "language_info": {
      "name": "python"
    }
  },
  "cells": [
    {
      "cell_type": "code",
      "source": [
        "saldo = 0\n",
        "catatan = []\n",
        "\n",
        "while True:\n",
        "    print(\"\\n=== Aplikasi Catatan Duit ===\")\n",
        "    print(\"1. Tambah Pemasukan\")\n",
        "    print(\"2. Tambah Pengeluaran\")\n",
        "    print(\"3. Lihat Catatan Transaksi\")\n",
        "    print(\"4. Cek Saldo\")\n",
        "    print(\"5. Keluar\")\n",
        "\n",
        "    pilih = input(\"Pilih menu (1-5): \")\n",
        "\n",
        "    if pilih == \"1\":\n",
        "        duit = int(input(\"Masukin duit masuk: Rp \"))\n",
        "        keterangan = input(\"Keterangan: \")\n",
        "        saldo += duit\n",
        "        catatan.append((\"Masuk\", duit, keterangan))\n",
        "\n",
        "    elif pilih == \"2\":\n",
        "        duit = int(input(\"Masukin duit keluar: Rp \"))\n",
        "        keterangan = input(\"Keterangan: \")\n",
        "        saldo -= duit\n",
        "        catatan.append((\"Keluar\", duit, keterangan))\n",
        "\n",
        "    elif pilih == \"3\":\n",
        "        print(\"\\n=== Catatan Transaksi ===\")\n",
        "        for jenis, jumlah, ket in catatan:\n",
        "            print(f\"{jenis}: Rp {jumlah} - {ket}\")\n",
        "\n",
        "    elif pilih == \"4\":\n",
        "        print(f\"\\nSaldo sekarang: Rp {saldo}\")\n",
        "\n",
        "    elif pilih == \"5\":\n",
        "        print(\"Sip! Program selesai.\")\n",
        "        break\n",
        "\n",
        "    else:\n",
        "        print(\"Input salah, coba lagi.\")\n"
      ],
      "metadata": {
        "id": "OBVbHSzOsLlo"
      },
      "execution_count": null,
      "outputs": []
    }
  ]
}